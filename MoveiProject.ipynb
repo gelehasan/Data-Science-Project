#Importing 
import pandas as pd
import numpy as np
import seaborn as sns

import matplotlib.pyplot as plt
import matplotlib.mlab as mlab
import matplotlib
plt.style.use('ggplot')
from matplotlib.pyplot import figure

%matplotlib inline

matplotlib.rcParams['figure.figsize']=(12,8)# it will adjust the configuration of the plots that will be created

# Read in data
